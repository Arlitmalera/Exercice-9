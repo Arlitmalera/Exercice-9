{
 "cells": [
  {
   "cell_type": "markdown",
   "id": "62bc32dc",
   "metadata": {},
   "source": [
    "Écrivez un programme Python pour une recherche binaire.\n",
    "Données de test: \n",
    "\n",
    "recherche_binaire([1,2,3,5,8], 6) -> Faux\n",
    "recherche_binaire([1,2,3,5,8], 5) -> Vrai"
   ]
  },
  {
   "cell_type": "code",
   "execution_count": 1,
   "id": "08f7c6b9",
   "metadata": {},
   "outputs": [],
   "source": [
    "def recherche_binaire(liste, element):\n",
    "    debut = 0\n",
    "    fin = len(liste) - 1\n",
    "\n",
    "    while debut <= fin:\n",
    "        milieu = (debut + fin) // 2\n",
    "        if liste[milieu] == element:\n",
    "            return True\n",
    "        elif liste[milieu] < element:\n",
    "            debut = milieu + 1\n",
    "        else:\n",
    "            fin = milieu - 1\n",
    "\n",
    "    return False"
   ]
  },
  {
   "cell_type": "markdown",
   "id": "cd927fb7",
   "metadata": {},
   "source": [
    " 2. Écrivez un programme Python pour calculer la valeur de 'a' à la puissance 'b'.\n",
    "\n",
    "Données de test: \n",
    "\n",
    "(puissance(3,4) -> 81"
   ]
  },
  {
   "cell_type": "code",
   "execution_count": 2,
   "id": "c37016d6",
   "metadata": {},
   "outputs": [
    {
     "name": "stdout",
     "output_type": "stream",
     "text": [
      "81\n"
     ]
    }
   ],
   "source": [
    "def puissance(a, b):\n",
    "    return a ** b\n",
    "print(puissance(3, 4)) \n"
   ]
  },
  {
   "cell_type": "code",
   "execution_count": null,
   "id": "8193ae9d",
   "metadata": {},
   "outputs": [],
   "source": [
    "3. Écrivez un programme Python pour trier une liste d'éléments à l'aide de l'algorithme de tri à bulles.\n",
    "\n",
    "Exemple de données : [29,13,22,37,52,49,46,71,56]\n",
    "\n",
    "Résultat attendu : [13, 22, 29, 37, 42, 46, 49, 56, 71]"
   ]
  },
  {
   "cell_type": "code",
   "execution_count": 3,
   "id": "57fa93b5",
   "metadata": {},
   "outputs": [
    {
     "name": "stdout",
     "output_type": "stream",
     "text": [
      "[13, 22, 29, 37, 46, 49, 52, 56, 71]\n"
     ]
    }
   ],
   "source": [
    "def bubble_sort(arr):\n",
    "    n = len(arr)\n",
    "    for i in range(n):\n",
    "        for j in range(n-i-1):\n",
    "            if arr[j] > arr[j+1]:\n",
    "                arr[j], arr[j+1] = arr[j+1], arr[j]\n",
    "    return arr\n",
    "\n",
    "data = [29,13,22,37,52,49,46,71,56]\n",
    "sorted_data = bubble_sort(data)\n",
    "print(sorted_data)\n"
   ]
  },
  {
   "cell_type": "code",
   "execution_count": null,
   "id": "5897eba0",
   "metadata": {},
   "outputs": [],
   "source": [
    "4. Écrivez un programme Python pour trier une liste d'éléments à l'aide de l'algorithme de tri par fusion.\n",
    "\n",
    "Exemple de données : [29,13,22,37,52,49,46,71,56]\n",
    "\n",
    "Résultat attendu : [13, 22, 29, 37, 42, 46, 49, 56, 71]"
   ]
  },
  {
   "cell_type": "code",
   "execution_count": 4,
   "id": "e46454ba",
   "metadata": {},
   "outputs": [
    {
     "name": "stdout",
     "output_type": "stream",
     "text": [
      "[13, 22, 29, 37, 46, 49, 52, 56, 71]\n"
     ]
    }
   ],
   "source": [
    "def merge_sort(arr):\n",
    "    if len(arr) > 1:\n",
    "        mid = len(arr) // 2\n",
    "        left_half = arr[:mid]\n",
    "        right_half = arr[mid:]\n",
    "        \n",
    "        merge_sort(left_half)\n",
    "        merge_sort(right_half)\n",
    "        \n",
    "        i = 0\n",
    "        j = 0\n",
    "        k = 0\n",
    "        \n",
    "        while i < len(left_half) and j < len(right_half):\n",
    "            if left_half[i] < right_half[j]:\n",
    "                arr[k] = left_half[i]\n",
    "                i += 1\n",
    "            else:\n",
    "                arr[k] = right_half[j]\n",
    "                j += 1\n",
    "            k += 1\n",
    "        \n",
    "        while i < len(left_half):\n",
    "            arr[k] = left_half[i]\n",
    "            i += 1\n",
    "            k += 1\n",
    "        \n",
    "        while j < len(right_half):\n",
    "            arr[k] = right_half[j]\n",
    "            j += 1\n",
    "            k += 1\n",
    "\n",
    "arr = [29,13,22,37,52,49,46,71,56]\n",
    "merge_sort(arr)\n",
    "print(arr)\n"
   ]
  },
  {
   "cell_type": "code",
   "execution_count": null,
   "id": "00595b66",
   "metadata": {},
   "outputs": [],
   "source": [
    "5. Écrivez un programme Python pour trier une liste d'éléments à l'aide de l'algorithme de tri rapide.\n",
    "\n",
    "Exemple de données : [29,13,22,37,52,49,46,71,56]\n",
    "\n",
    "Résultat attendu : [13, 22, 29, 37, 42, 46, 49, 56, 71]"
   ]
  },
  {
   "cell_type": "code",
   "execution_count": 5,
   "id": "5fd49139",
   "metadata": {},
   "outputs": [
    {
     "name": "stdout",
     "output_type": "stream",
     "text": [
      "[13, 22, 29, 37, 46, 49, 52, 56, 71]\n"
     ]
    }
   ],
   "source": [
    "def quicksort(arr):\n",
    "    if len(arr) <= 1:\n",
    "        return arr\n",
    "    else:\n",
    "        pivot = arr[0]\n",
    "        left = []\n",
    "        right = []\n",
    "        for i in range(1, len(arr)):\n",
    "            if arr[i] < pivot:\n",
    "                left.append(arr[i])\n",
    "            else:\n",
    "                right.append(arr[i])\n",
    "        return quicksort(left) + [pivot] + quicksort(right)\n",
    "\n",
    "data = [29, 13, 22, 37, 52, 49, 46, 71, 56]\n",
    "sorted_data = quicksort(data)\n",
    "print(sorted_data)\n"
   ]
  }
 ],
 "metadata": {
  "kernelspec": {
   "display_name": "Python 3 (ipykernel)",
   "language": "python",
   "name": "python3"
  },
  "language_info": {
   "codemirror_mode": {
    "name": "ipython",
    "version": 3
   },
   "file_extension": ".py",
   "mimetype": "text/x-python",
   "name": "python",
   "nbconvert_exporter": "python",
   "pygments_lexer": "ipython3",
   "version": "3.9.13"
  }
 },
 "nbformat": 4,
 "nbformat_minor": 5
}
